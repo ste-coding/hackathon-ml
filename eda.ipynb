{
 "cells": [
  {
   "cell_type": "code",
   "execution_count": 1,
   "metadata": {},
   "outputs": [],
   "source": [
    "# Importação de bibliotecas necessárias\n",
    "import pandas as pd\n",
    "import numpy as np\n",
    "import unicodedata\n",
    "import re\n",
    "import matplotlib.pyplot as plt\n",
    "import seaborn as sns\n"
   ]
  },
  {
   "cell_type": "code",
   "execution_count": null,
   "metadata": {},
   "outputs": [
    {
     "name": "stdout",
     "output_type": "stream",
     "text": [
      "                             name category  \\\n",
      "0                  Lua Nova Hotel    hotel   \n",
      "1              Glória Plaza Hotel    hotel   \n",
      "2     San Juan Business São Paulo    hotel   \n",
      "3        Charlie Ibirapuera Hotel    hotel   \n",
      "4  Hotel Laghetto Stilo São Paulo    hotel   \n",
      "\n",
      "                                         description  \n",
      "0  Situado a 250 m pela saída lateral do Terminal...  \n",
      "1  Um hotel romântico somente para adultos (Adult...  \n",
      "2  Não se pode perder tempo em uma grande cidade ...  \n",
      "3  O Charlie Sabiá Flat  possui apartamentos novo...  \n",
      "4  O Laghetto Stilo São Paulo traz a essência da ...  \n"
     ]
    }
   ],
   "source": [
    "import pandas as pd\n",
    "\n",
    "file_path = \"data/classification_data.csv\"\n",
    "\n",
    "df = pd.read_csv(file_path, sep=\";\", on_bad_lines=\"skip\", encoding=\"utf-8\")\n",
    "\n",
    "print(df.head())\n"
   ]
  },
  {
   "cell_type": "code",
   "execution_count": null,
   "metadata": {},
   "outputs": [
    {
     "name": "stdout",
     "output_type": "stream",
     "text": [
      "<class 'pandas.core.frame.DataFrame'>\n",
      "RangeIndex: 50 entries, 0 to 49\n",
      "Data columns (total 3 columns):\n",
      " #   Column       Non-Null Count  Dtype \n",
      "---  ------       --------------  ----- \n",
      " 0   name         50 non-null     object\n",
      " 1   category     50 non-null     object\n",
      " 2   description  49 non-null     object\n",
      "dtypes: object(3)\n",
      "memory usage: 1.3+ KB\n",
      "Valores ausentes por coluna:\n",
      " name           0\n",
      "category       0\n",
      "description    1\n",
      "dtype: int64\n",
      "Categorias únicas na coluna 'category': ['hotel' 'flat/apart hotel' 'não classificado' 'pousada' 'resort']\n"
     ]
    },
    {
     "data": {
      "image/png": "[encoded data removed]",
      "text/plain": [
       "<Figure size 640x480 with 1 Axes>"
      ]
     },
     "metadata": {},
     "output_type": "display_data"
    }
   ],
   "source": [
    "df.info()\n",
    "\n",
    "df.describe()\n",
    "\n",
    "missing_values = df.isnull().sum()\n",
    "print(\"Valores ausentes por coluna:\\n\", missing_values)\n",
    "\n",
    "print(\"Categorias únicas na coluna 'category':\", df['category'].unique())\n",
    "\n",
    "sns.countplot(data=df, y='category', order=df['category'].value_counts().index)\n",
    "plt.title(\"Distribuição das Categorias\")\n",
    "plt.show()\n"
   ]
  },
  {
   "cell_type": "code",
   "execution_count": null,
   "metadata": {},
   "outputs": [],
   "source": [
    "def normalize_text(text):\n",
    "    if pd.isnull(text):\n",
    "        return \"\"\n",
    "    text = text.lower()\n",
    "    text = unicodedata.normalize('NFKD', text).encode('ascii', 'ignore').decode('utf-8')\n",
    "    text = re.sub(r'[^\\w\\s]', '', text)\n",
    "    text = re.sub(r'\\s+', ' ', text).strip()\n",
    "    return text\n",
    "\n",
    "def clean_missing_values(df, column, fill_value=\"\"):\n",
    "    if df[column].isnull().sum() > 0:\n",
    "        print(f\"Substituindo valores ausentes na coluna '{column}'...\")\n",
    "        df[column].fillna(fill_value, inplace=True)\n",
    "\n",
    "def clean_data(df):\n",
    "    print(\"Normalizando textos...\")\n",
    "    df['name'] = df['name'].apply(normalize_text)\n",
    "    df['description'] = df['description'].apply(normalize_text)\n",
    "\n",
    "    clean_missing_values(df, 'name', \"desconhecido\")\n",
    "    clean_missing_values(df, 'description', \"não informado\")\n",
    "    clean_missing_values(df, 'category', \"não classificado\")\n",
    "\n",
    "    return df\n"
   ]
  },
  {
   "cell_type": "code",
   "execution_count": null,
   "metadata": {},
   "outputs": [
    {
     "name": "stdout",
     "output_type": "stream",
     "text": [
      "Iniciando a limpeza dos dados...\n",
      "Normalizando textos...\n",
      "Dados limpos:\n",
      "Valores ausentes após a limpeza:\n",
      " name           0\n",
      "category       0\n",
      "description    0\n",
      "dtype: int64\n"
     ]
    }
   ],
   "source": [
    "print(\"Iniciando a limpeza dos dados...\")\n",
    "df_cleaned = clean_data(df)\n",
    "\n",
    "\n",
    "print(\"Dados limpos:\")\n",
    "df_cleaned.head()\n",
    "\n",
    "missing_values_after = df_cleaned.isnull().sum()\n",
    "print(\"Valores ausentes após a limpeza:\\n\", missing_values_after)\n"
   ]
  },
  {
   "cell_type": "code",
   "execution_count": null,
   "metadata": {},
   "outputs": [
    {
     "name": "stdout",
     "output_type": "stream",
     "text": [
      "Dados limpos salvos em: data/cleaned_classification_data.csv\n"
     ]
    }
   ],
   "source": [
    "cleaned_file_path = \"data/cleaned_classification_data.csv\"\n",
    "df_cleaned.to_csv(cleaned_file_path, index=False)\n",
    "print(f\"Dados limpos salvos em: {cleaned_file_path}\")\n"
   ]
  }
 ],
 "metadata": {
  "kernelspec": {
   "display_name": "venv",
   "language": "python",
   "name": "python3"
  },
  "language_info": {
   "codemirror_mode": {
    "name": "ipython",
    "version": 3
   },
   "file_extension": ".py",
   "mimetype": "text/x-python",
   "name": "python",
   "nbconvert_exporter": "python",
   "pygments_lexer": "ipython3",
   "version": "3.12.2"
  }
 },
 "nbformat": 4,
 "nbformat_minor": 2
}
